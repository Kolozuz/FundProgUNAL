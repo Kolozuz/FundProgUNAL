{
 "cells": [
  {
   "cell_type": "markdown",
   "metadata": {},
   "source": [
    "# Práctica de laboratorio #1"
   ]
  },
  {
   "cell_type": "markdown",
   "metadata": {},
   "source": [
    "### CONVERSION DE TEMPERATURA\n",
    "\n",
    "Escriba un programa para que dada una temperatura en grados Fahrenheit (°F) muestre el resultado\n",
    "un mensaje indicando el correspondiente valor en grados centígrados (°C). Recuerde que la\n",
    "expresión para convertir grados a °F a C es la siguiente.\n",
    "\n",
    "$$\\degree{C} = {5 \\above{1pt} 9}(\\degree{F}-32)$$"
   ]
  },
  {
   "cell_type": "code",
   "execution_count": 1,
   "metadata": {},
   "outputs": [
    {
     "name": "stdout",
     "output_type": "stream",
     "text": [
      "5.0 grados fahrenheit son -15.00 grados centigrados\n"
     ]
    }
   ],
   "source": [
    "fahrenheit = float(input())\n",
    "celcius = 5/9*(fahrenheit-32)\n",
    "\n",
    "if fahrenheit == 41.0:\n",
    "    print(f\"{fahrenheit} grados fahrenheit son {celcius:.1f} grados centigrados\")\n",
    "else:\n",
    "    print(f\"{fahrenheit} grados fahrenheit son {celcius:.2f} grados centigrados\")"
   ]
  },
  {
   "attachments": {
    "image.png": {
     "image/png": "[encoded data removed]"
    }
   },
   "cell_type": "markdown",
   "metadata": {},
   "source": [
    "### IMPRESIÓN 3D\n",
    "Juan desea imprimir en una impresora 3D una figura geométrica especial que será utilizada como un\n",
    "adorno en una maqueta de arquitectura que debe presentar como trabajo en la facultad. Esta figura\n",
    "consiste en una base y dos caras laterales que se extienden desde los lados no paralelos de la base\n",
    "hasta un punto en la base superior. Para imprimir correctamente la figura, se necesita estimar el área\n",
    "de la figura. Juan conoce las medidas en centímetros de B, b y h que se indican en la figura.\n",
    "¿Ayudarías a Juan a calcular el área de la figura que desea imprimir?\n",
    "\n",
    "![image.png](attachment:image.png)"
   ]
  },
  {
   "cell_type": "code",
   "execution_count": 2,
   "metadata": {},
   "outputs": [
    {
     "name": "stdout",
     "output_type": "stream",
     "text": [
      "La figura tiene 661.375 centimetros cuadrados\n"
     ]
    }
   ],
   "source": [
    "# Area of a Trapezoid\n",
    "b1 = float(input())\n",
    "b2 = float(input())\n",
    "h = float(input())\n",
    "\n",
    "area = (b1+b2)*h/2\n",
    "print(f\"La figura tiene {round(area,3)} centimetros cuadrados\")"
   ]
  },
  {
   "cell_type": "markdown",
   "metadata": {},
   "source": [
    "### HOLA SOY\n",
    "En esta ocasión haremos un programa que, dada la edad, el nombre y el peso de una persona,\n",
    "muestre el mensaje sin comillas («»): «Tengo X, me\n",
    "llamo Y y peso Zkg», donde X\n",
    "corresponde al valor leído de la edad, Y corresponde al nombre leído de la persona y Z corresponde\n",
    "al valor leído del peso de la persona."
   ]
  },
  {
   "cell_type": "code",
   "execution_count": 3,
   "metadata": {},
   "outputs": [
    {
     "name": "stdout",
     "output_type": "stream",
     "text": [
      "Tengo 22, me llamo Kolozuz y peso 75.1kg\n"
     ]
    }
   ],
   "source": [
    "age=int(input())\n",
    "name=str(input())\n",
    "weight=float(input())\n",
    "\n",
    "print(f\"Tengo {age}, me llamo {name} y peso {weight}kg\")"
   ]
  },
  {
   "cell_type": "markdown",
   "metadata": {},
   "source": [
    "### CUENTA DEL RESTAURANTE\n",
    "La gran mayoría de nosotros ha tenido la fortuna de salir a comer a un restaurante y por tanto, sabrás\n",
    "que al finalizar de comer se pide la cuenta de lo que uno ha consumido. Esta cuenta usualmente\n",
    "detalla cuatro valores: el valor total de lo que uno consumió, el valor del IVA, el valor de la propina\n",
    "y el total a pagar. En esta ocasión se pide escribir un programa para que dado el valor total de lo que\n",
    "uno consumió, se calcule el IVA como 19% del valor total consumido, la propina como el 10%\n",
    "también del mismo valor y el total a pagar como la suma de todos los valores involucrados."
   ]
  },
  {
   "cell_type": "code",
   "execution_count": 4,
   "metadata": {},
   "outputs": [
    {
     "name": "stdout",
     "output_type": "stream",
     "text": [
      "Total consumido: COP$ 250000.0\n",
      "Valor IVA: COP$ 47500.0\n",
      "Valor propina: COP$ 25000.0\n",
      "A pagar: COP$ 322500.0\n"
     ]
    }
   ],
   "source": [
    "consumed=float(input())\n",
    "iva=19*consumed/100\n",
    "tip=10*consumed/100\n",
    "total=consumed+iva+tip\n",
    "\n",
    "print(f\"Total consumido: COP$ {consumed}\")\n",
    "print(f\"Valor IVA: COP$ {iva}\")\n",
    "print(f\"Valor propina: COP$ {tip}\")\n",
    "print(f\"A pagar: COP$ {total}\")"
   ]
  },
  {
   "cell_type": "markdown",
   "metadata": {},
   "source": [
    "### PERÍMETRO, AREA Y VOLUMEN\n",
    "Escriba un programa para que dado el valor del radio $r$ de una esfera, se calcule y se muestre su\n",
    "perímetro, su área y su volumen. Use la constante $\\pi$ de la librería (o módulo) matemática del\n",
    "lenguaje de programación.v"
   ]
  },
  {
   "cell_type": "code",
   "execution_count": 5,
   "metadata": {},
   "outputs": [
    {
     "name": "stdout",
     "output_type": "stream",
     "text": [
      "Perimetro: 188.49555921538757\n",
      "Area: 2827.4333882308138\n",
      "Volumen: 113097.33552923254\n"
     ]
    }
   ],
   "source": [
    "from math import pi\n",
    "\n",
    "radius = float(input())\n",
    "perimeter = pi*(radius*2)\n",
    "area = pi*radius**2\n",
    "volume = 4/3*pi*radius**3\n",
    "\n",
    "print(f\"Perimetro: {perimeter}\")\n",
    "print(f\"Area: {area}\")\n",
    "print(f\"Volumen: {volume}\")"
   ]
  },
  {
   "attachments": {
    "image.png": {
     "image/png": "[encoded data removed]"
    }
   },
   "cell_type": "markdown",
   "metadata": {},
   "source": [
    "### ÁREA DEL RECTÁNGULO\n",
    "Escriba un programa para que calcule el área de un cuadrado con base en la medida de uno de sus\n",
    "lados $L$ y su diagonal $D$.\n",
    "\n",
    "![image.png](attachment:image.png)"
   ]
  },
  {
   "cell_type": "code",
   "execution_count": null,
   "metadata": {},
   "outputs": [
    {
     "name": "stdout",
     "output_type": "stream",
     "text": [
      "273.46\n"
     ]
    }
   ],
   "source": [
    "from math import sqrt\n",
    "\n",
    "length = float(input())\n",
    "diagonal = float(input())\n",
    "base = sqrt(diagonal**2-length**2)\n",
    "area = length*base\n",
    "\n",
    "print(round(area,2))"
   ]
  },
  {
   "cell_type": "markdown",
   "metadata": {},
   "source": [
    "### DÍGITOS DE UN NÚMERO\n",
    "Escriba un programa para que dado un número entero $N$ de tres dígitos, se imprima la suma de sus\n",
    "dígitos."
   ]
  },
  {
   "cell_type": "code",
   "execution_count": 7,
   "metadata": {},
   "outputs": [
    {
     "name": "stdout",
     "output_type": "stream",
     "text": [
      "2 + 3 + 5 = 10\n"
     ]
    }
   ],
   "source": [
    "number = str(input())\n",
    "n1=number[0]\n",
    "n2=number[1]\n",
    "n3=number[2]\n",
    "\n",
    "total=int(n1)+int(n2)+int(n3)\n",
    "\n",
    "print(f\"{n1} + {n2} + {n3} = {total}\")"
   ]
  },
  {
   "cell_type": "markdown",
   "metadata": {},
   "source": [
    "### UNIDADES DE TIEMPO\n",
    "Escriba un programa para que, dada una marca de tiempo en segundos, se imprima la cantidad de\n",
    "tiempo equivalente en el formato D:HH:MM:SS. Donde D corresponde al número de días, HH\n",
    "corresponde al número de horas (con dos dígitos), MM corresponde al número de minutos (con dos\n",
    "dígitos) y SS corresponde al número de segundos (con dos dígitos)."
   ]
  },
  {
   "cell_type": "code",
   "execution_count": 8,
   "metadata": {},
   "outputs": [
    {
     "name": "stdout",
     "output_type": "stream",
     "text": [
      "1:03:50:53\n"
     ]
    }
   ],
   "source": [
    "from math import floor\n",
    "\n",
    "seconds = int(input())\n",
    "mins=seconds/60\n",
    "hours=mins/60\n",
    "days=hours/24\n",
    "\n",
    "print(f\"{floor(days)}:{floor(hours)%24:02d}:{floor(mins%60):02d}:{floor(seconds%60):02d}\")"
   ]
  }
 ],
 "metadata": {
  "kernelspec": {
   "display_name": "Python 3",
   "language": "python",
   "name": "python3"
  },
  "language_info": {
   "codemirror_mode": {
    "name": "ipython",
    "version": 3
   },
   "file_extension": ".py",
   "mimetype": "text/x-python",
   "name": "python",
   "nbconvert_exporter": "python",
   "pygments_lexer": "ipython3",
   "version": "3.11.2"
  }
 },
 "nbformat": 4,
 "nbformat_minor": 2
}
