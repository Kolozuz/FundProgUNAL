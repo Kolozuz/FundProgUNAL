{
 "cells": [
  {
   "cell_type": "markdown",
   "metadata": {},
   "source": [
    "# Practica de laboratorio #2"
   ]
  },
  {
   "cell_type": "markdown",
   "metadata": {},
   "source": [
    "### MÚLTIPLO DE 5\n",
    "Escriba un programa para determinar si un número $N$ leído es múltiplo o no de 5. En caso de que el\n",
    "número leído sea múltiplo de 5, mostrar el mensaje sin comillas («») y sin tildes: «El numero $N$\n",
    "es múltiplo de 5». En caso contrario mostrar el mensaje «El numero $N$ no es múltiplo\n",
    "de 5». En ambos mensajes $N$ corresponde al valor de del número leído."
   ]
  },
  {
   "cell_type": "code",
   "execution_count": 1,
   "metadata": {},
   "outputs": [
    {
     "name": "stdout",
     "output_type": "stream",
     "text": [
      "El numero 60 es multiplo de 5\n"
     ]
    }
   ],
   "source": [
    "n = int(input())\n",
    "\n",
    "if n%5 == 0:\n",
    "    print(f\"El numero {n} es multiplo de 5\")\n",
    "else:\n",
    "    print(f\"El numero {n} no es multiplo de 5\")"
   ]
  },
  {
   "cell_type": "markdown",
   "metadata": {},
   "source": [
    "### CALIFICACIÓN DEL CURSO\n",
    "Escriba un programa para que, leído un valor numérico correspondiente a la calificación de un curso,\n",
    "se muestre el mensaje sin comillas («») y sin tildes: «Felicitaciones, con la calificación\n",
    "$N$ has aprobado el curso», siempre y cuando valor de la calificación sea mayor o igual a 3.0.\n",
    "En caso contrario, se debe mostrar el mensaje sin comillas («»): «Lo lamento, la\n",
    "calificación $N$ no te permite aprobar el curso». En ambos casos, N corresponde al\n",
    "valor de la leído de la calificación."
   ]
  },
  {
   "cell_type": "code",
   "execution_count": 2,
   "metadata": {},
   "outputs": [
    {
     "name": "stdout",
     "output_type": "stream",
     "text": [
      "Felicitaciones, con la calificacion 4.1 has aprobado el curso\n"
     ]
    }
   ],
   "source": [
    "cal = round(float(input()),1)\n",
    "\n",
    "if cal >= 3.0:\n",
    "    print(f\"Felicitaciones, con la calificacion {cal} has aprobado el curso\")\n",
    "else:\n",
    "    print(f\"Lo lamento, la calificacion {cal} no te permite aprobar el curso\")"
   ]
  },
  {
   "cell_type": "markdown",
   "metadata": {},
   "source": [
    "### EL LOCO DEL BARRIO\n",
    "El loco del barrio es un personaje muy particular y con habilidades matemáticas especiales. Resulta\n",
    "que va por la calle preguntando números a los transeúntes desprevenidos y cuando ya le han dicho\n",
    "dos números, se fija si los números son múltiplos de 117 o de 127. En caso de que alguno de los dos\n",
    "números sea múltiplo de 117 o de 127, arranca a correr como loco (y valga la redundancia) gritando\n",
    "que ambos números tienen al planeta condenado. En caso de que los números no cumplan esa\n",
    "condición, se queda sentado, y en voz baja, murmura que el planeta se ha salvado. ¿Harías un\n",
    "programa para determinar si los números que le dicen al loco condenarán o salvarán el planeta?"
   ]
  },
  {
   "cell_type": "code",
   "execution_count": 3,
   "metadata": {},
   "outputs": [
    {
     "name": "stdout",
     "output_type": "stream",
     "text": [
      "Los numeros 234 y 143 tienen al planeta condenado, bien condenado\n"
     ]
    }
   ],
   "source": [
    "n1 = int(input())\n",
    "n2 = int(input())\n",
    "\n",
    "if n1%117 == 0 or n1%127 == 0 or n2%117 == 0 or n2%127 == 0:\n",
    "    print(f\"Los numeros {n1} y {n2} tienen al planeta condenado, bien condenado\")\n",
    "else:\n",
    "    print(f\"Los numeros {n1} y {n2} han salvado al planeta\")"
   ]
  },
  {
   "cell_type": "markdown",
   "metadata": {},
   "source": [
    "### LA ECUACIÓN DE LA RECTA\n",
    "Escriba un programa que reciba como datos de entrada la ordenada $Y$ y la abscisa $X$ de un punto de\n",
    "un plano cartesiano y se muestre el mensaje sin comillas («»): «E1 punto $(X, Y)$ pertenece\n",
    "a la recta $Y = 3X + 5$» siempre y cuando el punto pertenezca a la recta $Y = 3X + 5$. En caso\n",
    "contrario, se debe mostrar el mensaje sin comillas («»): «El punto $(X, Y)$ no pertenece a\n",
    "la recta $Y = 3X + 5$». En ambos casos $X$ y $Y$ corresponden a los valores leídos respectivamente."
   ]
  },
  {
   "cell_type": "code",
   "execution_count": 4,
   "metadata": {},
   "outputs": [
    {
     "name": "stdout",
     "output_type": "stream",
     "text": [
      "El punto (2, 11) pertenece a la recta Y = 3X + 5\n"
     ]
    }
   ],
   "source": [
    "y = int(input())\n",
    "x = int(input())\n",
    "\n",
    "if y == 3*x+5:\n",
    "    print(f\"El punto ({x}, {y}) pertenece a la recta Y = 3X + 5\")\n",
    "else:\n",
    "    print(f\"El punto ({x}, {y}) no pertenece a la recta Y = 3X + 5\")"
   ]
  },
  {
   "cell_type": "markdown",
   "metadata": {},
   "source": [
    "### EL DESCUENTO\n",
    "¿A quién no le agrada recibir el «descuentico» después de realizar una compra?, pues una frutería\n",
    "está otorgando un porcentaje de descuento por la compra de manzanas, dicho porcentaje depende\n",
    "de la cantidad de unidades compradas por el cliente, tal y como se muestra en la siguiente tabla.\n",
    "\n",
    "| No. de manzanas compradas | % de descuento |\n",
    "| --- | --- |\n",
    "| 1 - 2 | 0% |\n",
    "| 3 - 5 | 10% |\n",
    "| 6 - 10 | 15% |\n",
    "| 11 en adelante | 20% |"
   ]
  },
  {
   "cell_type": "code",
   "execution_count": 5,
   "metadata": {},
   "outputs": [
    {
     "name": "stdout",
     "output_type": "stream",
     "text": [
      "El total a pagar por el cliente es $30000\n"
     ]
    }
   ],
   "source": [
    "vu_apple = int(input())\n",
    "bought_apples = int(input())\n",
    "total = 0\n",
    "\n",
    "if bought_apples <= 2:\n",
    "    total = vu_apple*bought_apples\n",
    "elif bought_apples >= 3 and bought_apples <= 5:\n",
    "    total_normal = vu_apple*bought_apples\n",
    "    total = total_normal*0.9\n",
    "elif bought_apples >= 6 and bought_apples <= 10:\n",
    "    total_normal = vu_apple*bought_apples\n",
    "    total = total_normal*0.85\n",
    "elif bought_apples >= 6 and bought_apples <= 10:\n",
    "    total_normal = vu_apple*bought_apples\n",
    "    total = total_normal*0.85\n",
    "elif bought_apples >= 11:\n",
    "    total_normal = vu_apple*bought_apples\n",
    "    total = total_normal*0.8\n",
    "\n",
    "print(f\"El total a pagar por el cliente es ${round(total)}\")"
   ]
  },
  {
   "cell_type": "markdown",
   "metadata": {},
   "source": [
    "### EL PREMIO\n",
    "En un almacén de cadena, un cliente se encuentra haciendo la fila para pagar los productos\n",
    "comprados, cuando le toca su turno con la cajera, le notifican que ha salido favorecido con un premio\n",
    "que otorga el almacén una vez al mes. El cliente debe extraer un número de una bolsa negra, si el\n",
    "número extraído es positivo, el comprador recibirá una bicicleta, si el número es cero, recibirá una\n",
    "licuadora, si el número es negativo, recibirá una ancheta.\n",
    "Escribir un programa para que, dado el número extraído de la bolsa por el cliente, determine el\n",
    "premio que recibirá."
   ]
  },
  {
   "cell_type": "code",
   "execution_count": 6,
   "metadata": {},
   "outputs": [
    {
     "name": "stdout",
     "output_type": "stream",
     "text": [
      "Ancheta\n"
     ]
    }
   ],
   "source": [
    "extracted_num = int(input())\n",
    "\n",
    "if extracted_num < 0:\n",
    "    print(\"Ancheta\")\n",
    "elif extracted_num == 0:\n",
    "    print(\"Licuadora\")\n",
    "elif extracted_num >= 0:\n",
    "    print(\"Bicicleta\")"
   ]
  },
  {
   "cell_type": "markdown",
   "metadata": {},
   "source": [
    "### ALMACÉN DE ESCRITORIOS\n",
    "Un almacén de escritorios hace los siguientes descuentos: si el cliente compra menos de 5 unidades\n",
    "se le da un descuento del 10% sobre la compra; si el número de unidades es mayor o igual a cinco,\n",
    "pero menos de 10 se le otorga un 20% y, si son 10 o más se le da un 40%. Hacer un programa que\n",
    "determine cuánto debe pagar un cliente si el valor de cada escritorio es de $ 1'200.000."
   ]
  },
  {
   "cell_type": "code",
   "execution_count": 7,
   "metadata": {},
   "outputs": [
    {
     "name": "stdout",
     "output_type": "stream",
     "text": [
      "El valor a pagar por el cliente es $18000000.0\n"
     ]
    }
   ],
   "source": [
    "bought_desks = int(input())\n",
    "price = 1200000\n",
    "total = 0\n",
    "\n",
    "if bought_desks < 5:\n",
    "    total_normal = price*bought_desks\n",
    "    total = total_normal*0.9\n",
    "elif bought_desks >= 5 and bought_desks < 10:\n",
    "    total_normal = price*bought_desks\n",
    "    total = total_normal*0.8\n",
    "elif bought_desks >= 10:\n",
    "    total_normal = price*bought_desks\n",
    "    total = total_normal*0.6\n",
    "\n",
    "print(f\"El valor a pagar por el cliente es ${round(total, 1)}\")"
   ]
  },
  {
   "cell_type": "markdown",
   "metadata": {},
   "source": [
    "### SECUENCIA DE FIBONACCI\n",
    "La siguiente secuencia de números se denomina secuencia de Fibonacci. La secuencia inicia con los\n",
    "números 0 y 1 respectivamente. El tercer número se forma a partir de la suma de los dos anteriores.\n",
    "El cuarto número se forma a partir de la suma del segundo y tercer número y así sucesivamente.\n",
    "$$0,1,1,2,3,5,8,13,21$$\n",
    "Escriba un programa para que leídos tres números enteros, determine si éstos (uno a continuación\n",
    "del otro) podrían ser parte de la secuencia de Fibonacci e indique cuál sería el cuarto término de la\n",
    "secuencia."
   ]
  },
  {
   "cell_type": "code",
   "execution_count": 17,
   "metadata": {},
   "outputs": [
    {
     "name": "stdout",
     "output_type": "stream",
     "text": [
      "[0, 1, 1, 2, 3, 5, 8, 13, 21, 34, 55, 89, 144, 233, 377, 610, 987]\n",
      "Los numeros 5, 8 y 13 podrian ser parte de la secuencia de Fibonnacci y el cuarto termino seria 21\n"
     ]
    }
   ],
   "source": [
    "n1 = int(input())\n",
    "n2 = int(input())\n",
    "n3 = int(input())\n",
    "\n",
    "nums = []\n",
    "fibbon_seq = []\n",
    "\n",
    "a = 0\n",
    "b = 1\n",
    "fibbon_seq.append(a)\n",
    "fibbon_seq.append(b)\n",
    "\n",
    "for i in range(n3+2):\n",
    "    c = a+b\n",
    "    a = b\n",
    "    b = c\n",
    "\n",
    "    fibbon_seq.append(c)\n",
    "\n",
    "print(fibbon_seq)\n",
    "if n1 in fibbon_seq and n2 in fibbon_seq and n3 in fibbon_seq:   \n",
    "    print(f\"Los numeros {n1}, {n2} y {n3} podrian ser parte de la secuencia de Fibonnacci y el cuarto termino seria {fibbon_seq[fibbon_seq.index(n3)+1]}\")\n",
    "else:\n",
    "    print(\"Los numeros no podrian ser parte de la secuencia de Fibonacci\")"
   ]
  }
 ],
 "metadata": {
  "kernelspec": {
   "display_name": "Python 3",
   "language": "python",
   "name": "python3"
  },
  "language_info": {
   "codemirror_mode": {
    "name": "ipython",
    "version": 3
   },
   "file_extension": ".py",
   "mimetype": "text/x-python",
   "name": "python",
   "nbconvert_exporter": "python",
   "pygments_lexer": "ipython3",
   "version": "3.11.2"
  }
 },
 "nbformat": 4,
 "nbformat_minor": 2
}
