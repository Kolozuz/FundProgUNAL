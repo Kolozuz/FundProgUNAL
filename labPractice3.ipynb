{
 "cells": [
  {
   "cell_type": "markdown",
   "metadata": {},
   "source": [
    "### PAGO DEL PARQUEADERO\n",
    "Un centro comercial cobra el parqueadero de la siguiente manera. Cada hora de parqueo se paga\n",
    "con un 60% de descuento sobre el valor de una tarifa fija, siempre y cuando el vehículo haya\n",
    "permanecido parqueado 5 horas o menos. La hora adicional de parqueo (a partir de la hora 6 en\n",
    "adelante) se paga al 150% del valor de dicha tarifa.\n",
    "Por ejemplo, si el valor de la tarifa fija es de $\\text{\\textdollar{2000}}$ y un vehículo tardó en el parqueadero del centro\n",
    "comercial 8 horas, tendrá que pagar un total de $\\text{\\textdollar{13000}}$ ($\\text{\\textdollar{4000}}$ de las primeras 5 horas y $\\text{\\textdollar{9000}}$ de\n",
    "las tres horas adicionales).\n",
    "Escriba un programa para que dada una tarifa fija por hora de parqueo y la cantidad de horas que\n",
    "pasa el vehículo en el parqueadero, se muestre el pago correspondiente."
   ]
  },
  {
   "cell_type": "code",
   "execution_count": 1,
   "metadata": {},
   "outputs": [
    {
     "name": "stdout",
     "output_type": "stream",
     "text": [
      "$19000\n"
     ]
    }
   ],
   "source": [
    "fee = int(input())\n",
    "hrs = int(input())\n",
    "bill = 0\n",
    "\n",
    "if hrs <= 5:\n",
    "    base_bill = hrs*fee\n",
    "    bill = base_bill*0.4\n",
    "else:\n",
    "    extra_hrs_bill = (hrs-5)*fee\n",
    "    base_bill = (5*fee)*0.4\n",
    "    bill = base_bill+(extra_hrs_bill*1.5)\n",
    "    \n",
    "print(f\"${round(bill)}\")"
   ]
  },
  {
   "cell_type": "markdown",
   "metadata": {},
   "source": [
    "### VELOCIDAD, DISTANCIA Y TIEMPO\n",
    "Sabemos que la ecuación cinemática de la velocidad está dada por la expresión que se indica a\n",
    "continuación.\n",
    "\n",
    "$$velocidad = {distancia \\above{1pt} tiempo}$$\n",
    "\n",
    "Como apenas nos estamos familiarizando con esta ecuación, se propone que, dado el valor de dos\n",
    "de sus términos, se calcule el tercero. Así, por ejemplo, si se da el valor de la distancia $D = 32$ y del tiempo $T = 4$, la velocidad será igual a $V = 8$.\n",
    "Escriba un programa para que, dado el valor de dos términos de la ecuación, se calcule\n",
    "correctamente el tercero."
   ]
  },
  {
   "cell_type": "code",
   "execution_count": 2,
   "metadata": {},
   "outputs": [
    {
     "name": "stdout",
     "output_type": "stream",
     "text": [
      "V = 8.0\n"
     ]
    }
   ],
   "source": [
    "var1 = str(input())\n",
    "val1 = float(input())\n",
    "\n",
    "var2 = str(input())\n",
    "val2 = float(input())\n",
    "\n",
    "var_names = ['V','D','T'] \n",
    "\n",
    "var_names.remove(var1)\n",
    "var_names.remove(var2)\n",
    "\n",
    "var_to_calculate = var_names[0]\n",
    "result = str()\n",
    "\n",
    "if var_to_calculate == 'V':\n",
    "    result = val1/val2\n",
    "elif var_to_calculate == 'T':\n",
    "    result = val2/val1\n",
    "elif var_to_calculate == 'D' :\n",
    "    result = val1*val2\n",
    "\n",
    "print(f\"{var_to_calculate} = {round(result, 1)}\")"
   ]
  },
  {
   "cell_type": "markdown",
   "metadata": {},
   "source": [
    "### LLEGAR A FIN DE MES\n",
    "Para muchas personas, llegar a fin de mes significa hacer rendir su dinero para cubrir todos los gastos\n",
    "a lo largo de un mes y no quedar debiendo dinero que no se tiene. Un primer paso para organizar\n",
    "las finanzas personales es tener claro con qué dinero se cuenta para poder así, comprometerse\n",
    "únicamente con los gastos que puedan pagarse y no endeudarse en gastos innecesarios. Teniendo\n",
    "en cuenta lo anterior, te propongo que escribas un programa que teniendo en cuenta el saldo de tu\n",
    "cuenta bancaria al inicio del mes y los gastos estimados del mes, te indique si llegarás con tus\n",
    "finanzas limpias (saldo mayor o igual a cero) al final del mes."
   ]
  },
  {
   "cell_type": "code",
   "execution_count": 3,
   "metadata": {},
   "outputs": [
    {
     "name": "stdout",
     "output_type": "stream",
     "text": [
      "No llegas a fin de mes\n"
     ]
    }
   ],
   "source": [
    "account_balance = int(input())\n",
    "expenses = int(input())\n",
    "\n",
    "if account_balance+expenses >= 0:\n",
    "    print(f\"Si llegas a fin de mes\")\n",
    "else:\n",
    "    print(f\"No llegas a fin de mes\")"
   ]
  }
 ],
 "metadata": {
  "kernelspec": {
   "display_name": "Python 3",
   "language": "python",
   "name": "python3"
  },
  "language_info": {
   "codemirror_mode": {
    "name": "ipython",
    "version": 3
   },
   "file_extension": ".py",
   "mimetype": "text/x-python",
   "name": "python",
   "nbconvert_exporter": "python",
   "pygments_lexer": "ipython3",
   "version": "3.11.2"
  }
 },
 "nbformat": 4,
 "nbformat_minor": 2
}
